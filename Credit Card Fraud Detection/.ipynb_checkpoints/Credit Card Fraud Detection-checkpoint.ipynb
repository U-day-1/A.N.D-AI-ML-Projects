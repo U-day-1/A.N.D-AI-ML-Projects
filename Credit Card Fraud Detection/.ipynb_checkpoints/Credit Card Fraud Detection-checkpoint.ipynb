{
 "cells": [
  {
   "cell_type": "markdown",
   "id": "e0adf40c",
   "metadata": {
    "papermill": {
     "duration": 0.011404,
     "end_time": "2023-09-15T09:42:06.238839",
     "exception": false,
     "start_time": "2023-09-15T09:42:06.227435",
     "status": "completed"
    },
    "tags": []
   },
   "source": [
    "# Credit Card Fraud Detetcion\n",
    "\n",
    "### Major Project\n",
    "\n",
    "#### -- Uday Singh"
   ]
  },
  {
   "cell_type": "code",
   "execution_count": 4,
   "id": "c54eeb68",
   "metadata": {},
   "outputs": [],
   "source": [
    "import pandas as pd\n",
    "import numpy as np\n",
    "import matplotlib as mpl\n",
    "import matplotlib.pyplot as plt\n",
    "import seaborn as sns\n",
    "import datetime\n",
    "import re"
   ]
  },
  {
   "cell_type": "code",
   "execution_count": 5,
   "id": "cb1f35e6",
   "metadata": {
    "execution": {
     "iopub.execute_input": "2023-09-15T09:42:08.574711Z",
     "iopub.status.busy": "2023-09-15T09:42:08.574372Z",
     "iopub.status.idle": "2023-09-15T09:42:10.096368Z",
     "shell.execute_reply": "2023-09-15T09:42:10.094914Z"
    },
    "papermill": {
     "duration": 1.536253,
     "end_time": "2023-09-15T09:42:10.098917",
     "exception": false,
     "start_time": "2023-09-15T09:42:08.562664",
     "status": "completed"
    },
    "tags": []
   },
   "outputs": [
    {
     "data": {
      "text/html": [
       "<div>\n",
       "<style scoped>\n",
       "    .dataframe tbody tr th:only-of-type {\n",
       "        vertical-align: middle;\n",
       "    }\n",
       "\n",
       "    .dataframe tbody tr th {\n",
       "        vertical-align: top;\n",
       "    }\n",
       "\n",
       "    .dataframe thead th {\n",
       "        text-align: right;\n",
       "    }\n",
       "</style>\n",
       "<table border=\"1\" class=\"dataframe\">\n",
       "  <thead>\n",
       "    <tr style=\"text-align: right;\">\n",
       "      <th></th>\n",
       "      <th>distance_from_home</th>\n",
       "      <th>distance_from_last_transaction</th>\n",
       "      <th>ratio_to_median_purchase_price</th>\n",
       "      <th>repeat_retailer</th>\n",
       "      <th>used_chip</th>\n",
       "      <th>used_pin_number</th>\n",
       "      <th>online_order</th>\n",
       "      <th>fraud</th>\n",
       "    </tr>\n",
       "  </thead>\n",
       "  <tbody>\n",
       "    <tr>\n",
       "      <th>0</th>\n",
       "      <td>57.877857</td>\n",
       "      <td>0.311140</td>\n",
       "      <td>1.945940</td>\n",
       "      <td>1.0</td>\n",
       "      <td>1.0</td>\n",
       "      <td>0.0</td>\n",
       "      <td>0.0</td>\n",
       "      <td>0.0</td>\n",
       "    </tr>\n",
       "    <tr>\n",
       "      <th>1</th>\n",
       "      <td>10.829943</td>\n",
       "      <td>0.175592</td>\n",
       "      <td>1.294219</td>\n",
       "      <td>1.0</td>\n",
       "      <td>0.0</td>\n",
       "      <td>0.0</td>\n",
       "      <td>0.0</td>\n",
       "      <td>0.0</td>\n",
       "    </tr>\n",
       "    <tr>\n",
       "      <th>2</th>\n",
       "      <td>5.091079</td>\n",
       "      <td>0.805153</td>\n",
       "      <td>0.427715</td>\n",
       "      <td>1.0</td>\n",
       "      <td>0.0</td>\n",
       "      <td>0.0</td>\n",
       "      <td>1.0</td>\n",
       "      <td>0.0</td>\n",
       "    </tr>\n",
       "    <tr>\n",
       "      <th>3</th>\n",
       "      <td>2.247564</td>\n",
       "      <td>5.600044</td>\n",
       "      <td>0.362663</td>\n",
       "      <td>1.0</td>\n",
       "      <td>1.0</td>\n",
       "      <td>0.0</td>\n",
       "      <td>1.0</td>\n",
       "      <td>0.0</td>\n",
       "    </tr>\n",
       "    <tr>\n",
       "      <th>4</th>\n",
       "      <td>44.190936</td>\n",
       "      <td>0.566486</td>\n",
       "      <td>2.222767</td>\n",
       "      <td>1.0</td>\n",
       "      <td>1.0</td>\n",
       "      <td>0.0</td>\n",
       "      <td>1.0</td>\n",
       "      <td>0.0</td>\n",
       "    </tr>\n",
       "  </tbody>\n",
       "</table>\n",
       "</div>"
      ],
      "text/plain": [
       "   distance_from_home  distance_from_last_transaction  \\\n",
       "0           57.877857                        0.311140   \n",
       "1           10.829943                        0.175592   \n",
       "2            5.091079                        0.805153   \n",
       "3            2.247564                        5.600044   \n",
       "4           44.190936                        0.566486   \n",
       "\n",
       "   ratio_to_median_purchase_price  repeat_retailer  used_chip  \\\n",
       "0                        1.945940              1.0        1.0   \n",
       "1                        1.294219              1.0        0.0   \n",
       "2                        0.427715              1.0        0.0   \n",
       "3                        0.362663              1.0        1.0   \n",
       "4                        2.222767              1.0        1.0   \n",
       "\n",
       "   used_pin_number  online_order  fraud  \n",
       "0              0.0           0.0    0.0  \n",
       "1              0.0           0.0    0.0  \n",
       "2              0.0           1.0    0.0  \n",
       "3              0.0           1.0    0.0  \n",
       "4              0.0           1.0    0.0  "
      ]
     },
     "execution_count": 5,
     "metadata": {},
     "output_type": "execute_result"
    }
   ],
   "source": [
    "df = pd.read_csv('card_transdata.csv')\n",
    "df.head()"
   ]
  },
  {
   "cell_type": "code",
   "execution_count": 6,
   "id": "d5ea365c",
   "metadata": {
    "execution": {
     "iopub.execute_input": "2023-09-15T09:42:10.123864Z",
     "iopub.status.busy": "2023-09-15T09:42:10.123510Z",
     "iopub.status.idle": "2023-09-15T09:42:10.163951Z",
     "shell.execute_reply": "2023-09-15T09:42:10.162688Z"
    },
    "papermill": {
     "duration": 0.055418,
     "end_time": "2023-09-15T09:42:10.165978",
     "exception": false,
     "start_time": "2023-09-15T09:42:10.110560",
     "status": "completed"
    },
    "tags": []
   },
   "outputs": [
    {
     "name": "stdout",
     "output_type": "stream",
     "text": [
      "<class 'pandas.core.frame.DataFrame'>\n",
      "RangeIndex: 1000000 entries, 0 to 999999\n",
      "Data columns (total 8 columns):\n",
      " #   Column                          Non-Null Count    Dtype  \n",
      "---  ------                          --------------    -----  \n",
      " 0   distance_from_home              1000000 non-null  float64\n",
      " 1   distance_from_last_transaction  1000000 non-null  float64\n",
      " 2   ratio_to_median_purchase_price  1000000 non-null  float64\n",
      " 3   repeat_retailer                 1000000 non-null  float64\n",
      " 4   used_chip                       1000000 non-null  float64\n",
      " 5   used_pin_number                 1000000 non-null  float64\n",
      " 6   online_order                    1000000 non-null  float64\n",
      " 7   fraud                           1000000 non-null  float64\n",
      "dtypes: float64(8)\n",
      "memory usage: 61.0 MB\n"
     ]
    }
   ],
   "source": [
    "df.info()"
   ]
  },
  {
   "cell_type": "code",
   "execution_count": 7,
   "id": "7f74e733",
   "metadata": {
    "execution": {
     "iopub.execute_input": "2023-09-15T09:42:10.190054Z",
     "iopub.status.busy": "2023-09-15T09:42:10.189660Z",
     "iopub.status.idle": "2023-09-15T09:42:10.207099Z",
     "shell.execute_reply": "2023-09-15T09:42:10.206112Z"
    },
    "papermill": {
     "duration": 0.032015,
     "end_time": "2023-09-15T09:42:10.209184",
     "exception": false,
     "start_time": "2023-09-15T09:42:10.177169",
     "status": "completed"
    },
    "tags": []
   },
   "outputs": [
    {
     "data": {
      "text/plain": [
       "distance_from_home                0\n",
       "distance_from_last_transaction    0\n",
       "ratio_to_median_purchase_price    0\n",
       "repeat_retailer                   0\n",
       "used_chip                         0\n",
       "used_pin_number                   0\n",
       "online_order                      0\n",
       "fraud                             0\n",
       "dtype: int64"
      ]
     },
     "execution_count": 7,
     "metadata": {},
     "output_type": "execute_result"
    }
   ],
   "source": [
    "df.isna().sum()"
   ]
  },
  {
   "cell_type": "code",
   "execution_count": 8,
   "id": "011555c2",
   "metadata": {
    "execution": {
     "iopub.execute_input": "2023-09-15T09:42:10.233763Z",
     "iopub.status.busy": "2023-09-15T09:42:10.233405Z",
     "iopub.status.idle": "2023-09-15T09:42:10.725215Z",
     "shell.execute_reply": "2023-09-15T09:42:10.724037Z"
    },
    "papermill": {
     "duration": 0.50661,
     "end_time": "2023-09-15T09:42:10.727281",
     "exception": false,
     "start_time": "2023-09-15T09:42:10.220671",
     "status": "completed"
    },
    "tags": []
   },
   "outputs": [
    {
     "data": {
      "text/plain": [
       "0"
      ]
     },
     "execution_count": 8,
     "metadata": {},
     "output_type": "execute_result"
    }
   ],
   "source": [
    "df.duplicated().sum()"
   ]
  },
  {
   "cell_type": "markdown",
   "id": "ee8a2571",
   "metadata": {
    "papermill": {
     "duration": 0.011008,
     "end_time": "2023-09-15T09:42:10.749615",
     "exception": false,
     "start_time": "2023-09-15T09:42:10.738607",
     "status": "completed"
    },
    "tags": []
   },
   "source": [
    "the dataset has no missing values or duplicates."
   ]
  },
  {
   "cell_type": "code",
   "execution_count": 9,
   "id": "40e98caa",
   "metadata": {
    "execution": {
     "iopub.execute_input": "2023-09-15T09:42:10.774310Z",
     "iopub.status.busy": "2023-09-15T09:42:10.773883Z",
     "iopub.status.idle": "2023-09-15T09:42:11.036776Z",
     "shell.execute_reply": "2023-09-15T09:42:11.035350Z"
    },
    "papermill": {
     "duration": 0.277859,
     "end_time": "2023-09-15T09:42:11.038936",
     "exception": false,
     "start_time": "2023-09-15T09:42:10.761077",
     "status": "completed"
    },
    "tags": []
   },
   "outputs": [
    {
     "data": {
      "text/html": [
       "<div>\n",
       "<style scoped>\n",
       "    .dataframe tbody tr th:only-of-type {\n",
       "        vertical-align: middle;\n",
       "    }\n",
       "\n",
       "    .dataframe tbody tr th {\n",
       "        vertical-align: top;\n",
       "    }\n",
       "\n",
       "    .dataframe thead th {\n",
       "        text-align: right;\n",
       "    }\n",
       "</style>\n",
       "<table border=\"1\" class=\"dataframe\">\n",
       "  <thead>\n",
       "    <tr style=\"text-align: right;\">\n",
       "      <th></th>\n",
       "      <th>distance_from_home</th>\n",
       "      <th>distance_from_last_transaction</th>\n",
       "      <th>ratio_to_median_purchase_price</th>\n",
       "      <th>repeat_retailer</th>\n",
       "      <th>used_chip</th>\n",
       "      <th>used_pin_number</th>\n",
       "      <th>online_order</th>\n",
       "      <th>fraud</th>\n",
       "    </tr>\n",
       "  </thead>\n",
       "  <tbody>\n",
       "    <tr>\n",
       "      <th>count</th>\n",
       "      <td>1000000.000000</td>\n",
       "      <td>1000000.000000</td>\n",
       "      <td>1000000.000000</td>\n",
       "      <td>1000000.000000</td>\n",
       "      <td>1000000.000000</td>\n",
       "      <td>1000000.000000</td>\n",
       "      <td>1000000.000000</td>\n",
       "      <td>1000000.000000</td>\n",
       "    </tr>\n",
       "    <tr>\n",
       "      <th>mean</th>\n",
       "      <td>26.628792</td>\n",
       "      <td>5.036519</td>\n",
       "      <td>1.824182</td>\n",
       "      <td>0.881536</td>\n",
       "      <td>0.350399</td>\n",
       "      <td>0.100608</td>\n",
       "      <td>0.650552</td>\n",
       "      <td>0.087403</td>\n",
       "    </tr>\n",
       "    <tr>\n",
       "      <th>std</th>\n",
       "      <td>65.390784</td>\n",
       "      <td>25.843093</td>\n",
       "      <td>2.799589</td>\n",
       "      <td>0.323157</td>\n",
       "      <td>0.477095</td>\n",
       "      <td>0.300809</td>\n",
       "      <td>0.476796</td>\n",
       "      <td>0.282425</td>\n",
       "    </tr>\n",
       "    <tr>\n",
       "      <th>min</th>\n",
       "      <td>0.004874</td>\n",
       "      <td>0.000118</td>\n",
       "      <td>0.004399</td>\n",
       "      <td>0.000000</td>\n",
       "      <td>0.000000</td>\n",
       "      <td>0.000000</td>\n",
       "      <td>0.000000</td>\n",
       "      <td>0.000000</td>\n",
       "    </tr>\n",
       "    <tr>\n",
       "      <th>25%</th>\n",
       "      <td>3.878008</td>\n",
       "      <td>0.296671</td>\n",
       "      <td>0.475673</td>\n",
       "      <td>1.000000</td>\n",
       "      <td>0.000000</td>\n",
       "      <td>0.000000</td>\n",
       "      <td>0.000000</td>\n",
       "      <td>0.000000</td>\n",
       "    </tr>\n",
       "    <tr>\n",
       "      <th>50%</th>\n",
       "      <td>9.967760</td>\n",
       "      <td>0.998650</td>\n",
       "      <td>0.997717</td>\n",
       "      <td>1.000000</td>\n",
       "      <td>0.000000</td>\n",
       "      <td>0.000000</td>\n",
       "      <td>1.000000</td>\n",
       "      <td>0.000000</td>\n",
       "    </tr>\n",
       "    <tr>\n",
       "      <th>75%</th>\n",
       "      <td>25.743985</td>\n",
       "      <td>3.355748</td>\n",
       "      <td>2.096370</td>\n",
       "      <td>1.000000</td>\n",
       "      <td>1.000000</td>\n",
       "      <td>0.000000</td>\n",
       "      <td>1.000000</td>\n",
       "      <td>0.000000</td>\n",
       "    </tr>\n",
       "    <tr>\n",
       "      <th>max</th>\n",
       "      <td>10632.723672</td>\n",
       "      <td>11851.104565</td>\n",
       "      <td>267.802942</td>\n",
       "      <td>1.000000</td>\n",
       "      <td>1.000000</td>\n",
       "      <td>1.000000</td>\n",
       "      <td>1.000000</td>\n",
       "      <td>1.000000</td>\n",
       "    </tr>\n",
       "  </tbody>\n",
       "</table>\n",
       "</div>"
      ],
      "text/plain": [
       "       distance_from_home  distance_from_last_transaction  \\\n",
       "count      1000000.000000                  1000000.000000   \n",
       "mean            26.628792                        5.036519   \n",
       "std             65.390784                       25.843093   \n",
       "min              0.004874                        0.000118   \n",
       "25%              3.878008                        0.296671   \n",
       "50%              9.967760                        0.998650   \n",
       "75%             25.743985                        3.355748   \n",
       "max          10632.723672                    11851.104565   \n",
       "\n",
       "       ratio_to_median_purchase_price  repeat_retailer       used_chip  \\\n",
       "count                  1000000.000000   1000000.000000  1000000.000000   \n",
       "mean                         1.824182         0.881536        0.350399   \n",
       "std                          2.799589         0.323157        0.477095   \n",
       "min                          0.004399         0.000000        0.000000   \n",
       "25%                          0.475673         1.000000        0.000000   \n",
       "50%                          0.997717         1.000000        0.000000   \n",
       "75%                          2.096370         1.000000        1.000000   \n",
       "max                        267.802942         1.000000        1.000000   \n",
       "\n",
       "       used_pin_number    online_order           fraud  \n",
       "count   1000000.000000  1000000.000000  1000000.000000  \n",
       "mean          0.100608        0.650552        0.087403  \n",
       "std           0.300809        0.476796        0.282425  \n",
       "min           0.000000        0.000000        0.000000  \n",
       "25%           0.000000        0.000000        0.000000  \n",
       "50%           0.000000        1.000000        0.000000  \n",
       "75%           0.000000        1.000000        0.000000  \n",
       "max           1.000000        1.000000        1.000000  "
      ]
     },
     "execution_count": 9,
     "metadata": {},
     "output_type": "execute_result"
    }
   ],
   "source": [
    "df.describe()"
   ]
  },
  {
   "cell_type": "markdown",
   "id": "1dd50587",
   "metadata": {
    "papermill": {
     "duration": 0.010607,
     "end_time": "2023-09-15T09:42:11.084148",
     "exception": false,
     "start_time": "2023-09-15T09:42:11.073541",
     "status": "completed"
    },
    "tags": []
   },
   "source": [
    "# Features Distribution"
   ]
  },
  {
   "cell_type": "code",
   "execution_count": 10,
   "id": "91fb4108",
   "metadata": {
    "execution": {
     "iopub.execute_input": "2023-09-15T09:42:11.113382Z",
     "iopub.status.busy": "2023-09-15T09:42:11.112582Z",
     "iopub.status.idle": "2023-09-15T09:42:12.514941Z",
     "shell.execute_reply": "2023-09-15T09:42:12.513568Z"
    },
    "papermill": {
     "duration": 1.419057,
     "end_time": "2023-09-15T09:42:12.517439",
     "exception": false,
     "start_time": "2023-09-15T09:42:11.098382",
     "status": "completed"
    },
    "tags": []
   },
   "outputs": [
    {
     "data": {
      "image/png": "[encoded data removed]",
      "text/plain": [
       "<Figure size 2000x400 with 3 Axes>"
      ]
     },
     "metadata": {},
     "output_type": "display_data"
    }
   ],
   "source": [
    "num_features = ['distance_from_home','distance_from_last_transaction','ratio_to_median_purchase_price']\n",
    "fig,ax = plt.subplots(1,3,figsize=(20,4))\n",
    "for i,col in enumerate(num_features):\n",
    "    sns.boxplot(data=df,x=col,ax=ax[i])\n",
    "    ax[i].set_title(f'{col} Distribution')"
   ]
  },
  {
   "cell_type": "code",
   "execution_count": 11,
   "id": "f6cab4c9",
   "metadata": {
    "execution": {
     "iopub.execute_input": "2023-09-15T09:42:12.566862Z",
     "iopub.status.busy": "2023-09-15T09:42:12.566480Z",
     "iopub.status.idle": "2023-09-15T09:42:12.585271Z",
     "shell.execute_reply": "2023-09-15T09:42:12.583722Z"
    },
    "papermill": {
     "duration": 0.034826,
     "end_time": "2023-09-15T09:42:12.588007",
     "exception": false,
     "start_time": "2023-09-15T09:42:12.553181",
     "status": "completed"
    },
    "tags": []
   },
   "outputs": [
    {
     "data": {
      "text/plain": [
       "0.0    91.2597\n",
       "1.0     8.7403\n",
       "Name: fraud, dtype: float64"
      ]
     },
     "execution_count": 11,
     "metadata": {},
     "output_type": "execute_result"
    }
   ],
   "source": [
    "df['fraud'].value_counts(normalize=True) * 100"
   ]
  },
  {
   "cell_type": "code",
   "execution_count": 12,
   "id": "d87745ab",
   "metadata": {
    "execution": {
     "iopub.execute_input": "2023-09-15T09:42:12.614685Z",
     "iopub.status.busy": "2023-09-15T09:42:12.614310Z",
     "iopub.status.idle": "2023-09-15T09:42:12.804068Z",
     "shell.execute_reply": "2023-09-15T09:42:12.802893Z"
    },
    "papermill": {
     "duration": 0.206277,
     "end_time": "2023-09-15T09:42:12.806759",
     "exception": false,
     "start_time": "2023-09-15T09:42:12.600482",
     "status": "completed"
    },
    "tags": []
   },
   "outputs": [],
   "source": [
    "df_no_outilers = df.copy()\n",
    "\n",
    "for col in ['distance_from_home','distance_from_last_transaction','ratio_to_median_purchase_price']:\n",
    "    q1 = df_no_outilers[col].quantile(0.25)\n",
    "    q3 = df_no_outilers[col].quantile(0.75)\n",
    "    iqr = q3 - q1 \n",
    "    lower = q1 - 1.5 * iqr\n",
    "    upper = q3 + 1.5 * iqr\n",
    "    df_no_outilers = df_no_outilers[(df_no_outilers[col]>=lower) & (df_no_outilers[col]<=upper)]"
   ]
  },
  {
   "cell_type": "code",
   "execution_count": 13,
   "id": "cd4fabe0",
   "metadata": {
    "execution": {
     "iopub.execute_input": "2023-09-15T09:42:12.857684Z",
     "iopub.status.busy": "2023-09-15T09:42:12.857306Z",
     "iopub.status.idle": "2023-09-15T09:42:12.869124Z",
     "shell.execute_reply": "2023-09-15T09:42:12.868405Z"
    },
    "papermill": {
     "duration": 0.027829,
     "end_time": "2023-09-15T09:42:12.871541",
     "exception": false,
     "start_time": "2023-09-15T09:42:12.843712",
     "status": "completed"
    },
    "tags": []
   },
   "outputs": [
    {
     "data": {
      "text/plain": [
       "0.0    98.748828\n",
       "1.0     1.251172\n",
       "Name: fraud, dtype: float64"
      ]
     },
     "execution_count": 13,
     "metadata": {},
     "output_type": "execute_result"
    }
   ],
   "source": [
    "df_no_outilers['fraud'].value_counts(normalize=True)*100"
   ]
  },
  {
   "cell_type": "code",
   "execution_count": 14,
   "id": "256d6c3e",
   "metadata": {
    "execution": {
     "iopub.execute_input": "2023-09-15T09:42:12.922941Z",
     "iopub.status.busy": "2023-09-15T09:42:12.922522Z",
     "iopub.status.idle": "2023-09-15T09:42:13.441696Z",
     "shell.execute_reply": "2023-09-15T09:42:13.440285Z"
    },
    "papermill": {
     "duration": 0.535482,
     "end_time": "2023-09-15T09:42:13.443869",
     "exception": false,
     "start_time": "2023-09-15T09:42:12.908387",
     "status": "completed"
    },
    "tags": []
   },
   "outputs": [
    {
     "data": {
      "image/png": "[encoded data removed]",
      "text/plain": [
       "<Figure size 2000x400 with 4 Axes>"
      ]
     },
     "metadata": {},
     "output_type": "display_data"
    }
   ],
   "source": [
    "cat_features = ['repeat_retailer', 'used_chip','used_pin_number', 'online_order']\n",
    "fig,ax = plt.subplots(1,4,figsize=(20,4))\n",
    "for i,col in enumerate(cat_features):\n",
    "    df[col].value_counts().plot(kind='pie',ax=ax[i],title=col)"
   ]
  },
  {
   "cell_type": "code",
   "execution_count": 15,
   "id": "623a19f5",
   "metadata": {
    "execution": {
     "iopub.execute_input": "2023-09-15T09:42:13.497471Z",
     "iopub.status.busy": "2023-09-15T09:42:13.497079Z",
     "iopub.status.idle": "2023-09-15T09:42:13.732372Z",
     "shell.execute_reply": "2023-09-15T09:42:13.730891Z"
    },
    "papermill": {
     "duration": 0.251967,
     "end_time": "2023-09-15T09:42:13.734838",
     "exception": false,
     "start_time": "2023-09-15T09:42:13.482871",
     "status": "completed"
    },
    "tags": []
   },
   "outputs": [
    {
     "data": {
      "image/png": "[encoded data removed]",
      "text/plain": [
       "<Figure size 640x480 with 1 Axes>"
      ]
     },
     "metadata": {},
     "output_type": "display_data"
    }
   ],
   "source": [
    "sns.countplot(data=df,x='fraud');"
   ]
  },
  {
   "cell_type": "code",
   "execution_count": 16,
   "id": "623d5293",
   "metadata": {
    "execution": {
     "iopub.execute_input": "2023-09-15T09:42:13.788198Z",
     "iopub.status.busy": "2023-09-15T09:42:13.787817Z",
     "iopub.status.idle": "2023-09-15T09:42:15.759425Z",
     "shell.execute_reply": "2023-09-15T09:42:15.758304Z"
    },
    "papermill": {
     "duration": 1.989009,
     "end_time": "2023-09-15T09:42:15.762636",
     "exception": false,
     "start_time": "2023-09-15T09:42:13.773627",
     "status": "completed"
    },
    "tags": []
   },
   "outputs": [
    {
     "data": {
      "image/png": "[encoded data removed]",
      "text/plain": [
       "<Figure size 2000x1500 with 3 Axes>"
      ]
     },
     "metadata": {},
     "output_type": "display_data"
    }
   ],
   "source": [
    "fig,ax = plt.subplots(1,3,figsize=(20,15))\n",
    "for i,col in enumerate(num_features):\n",
    "    sns.boxenplot(x=df['fraud'],y=df[col],ax=ax[i])\n",
    "    ax[i].set_title(f'{col} vs Fraud')"
   ]
  },
  {
   "cell_type": "code",
   "execution_count": null,
   "id": "fdae9b17",
   "metadata": {
    "execution": {
     "iopub.execute_input": "2023-09-15T09:42:15.795792Z",
     "iopub.status.busy": "2023-09-15T09:42:15.795352Z",
     "iopub.status.idle": "2023-09-15T09:43:47.899858Z",
     "shell.execute_reply": "2023-09-15T09:43:47.898889Z"
    },
    "papermill": {
     "duration": 92.137939,
     "end_time": "2023-09-15T09:43:47.915783",
     "exception": false,
     "start_time": "2023-09-15T09:42:15.777844",
     "status": "completed"
    },
    "tags": []
   },
   "outputs": [],
   "source": [
    "fig,ax = plt.subplots(1,4,figsize=(20,4))\n",
    "for i,col in enumerate(cat_features):\n",
    "    sns.barplot(data=df,x=col,y='fraud',ax=ax[i])\n",
    "    ax[i].set_title(f'{col} vs Fraud')    "
   ]
  },
  {
   "cell_type": "markdown",
   "id": "1ddb4c6f",
   "metadata": {
    "papermill": {
     "duration": 0.013845,
     "end_time": "2023-09-15T09:43:47.943966",
     "exception": false,
     "start_time": "2023-09-15T09:43:47.930121",
     "status": "completed"
    },
    "tags": []
   },
   "source": [
    "Except for repeat_retailer, features have a strong correlation with the target."
   ]
  },
  {
   "cell_type": "code",
   "execution_count": null,
   "id": "4082b657",
   "metadata": {
    "execution": {
     "iopub.execute_input": "2023-09-15T09:43:47.975674Z",
     "iopub.status.busy": "2023-09-15T09:43:47.975136Z",
     "iopub.status.idle": "2023-09-15T09:43:48.760018Z",
     "shell.execute_reply": "2023-09-15T09:43:48.758673Z"
    },
    "papermill": {
     "duration": 0.803741,
     "end_time": "2023-09-15T09:43:48.762279",
     "exception": false,
     "start_time": "2023-09-15T09:43:47.958538",
     "status": "completed"
    },
    "tags": []
   },
   "outputs": [],
   "source": [
    "plt.figure(figsize=(15,10))\n",
    "sns.heatmap(df.corr(),cmap='Blues',annot=True);"
   ]
  },
  {
   "cell_type": "markdown",
   "id": "175ee3ea",
   "metadata": {
    "papermill": {
     "duration": 0.016103,
     "end_time": "2023-09-15T09:43:48.794412",
     "exception": false,
     "start_time": "2023-09-15T09:43:48.778309",
     "status": "completed"
    },
    "tags": []
   },
   "source": [
    "# Model Building"
   ]
  },
  {
   "cell_type": "code",
   "execution_count": null,
   "id": "ec1c8a9c",
   "metadata": {
    "execution": {
     "iopub.execute_input": "2023-09-15T09:43:48.828900Z",
     "iopub.status.busy": "2023-09-15T09:43:48.828493Z",
     "iopub.status.idle": "2023-09-15T09:43:48.836653Z",
     "shell.execute_reply": "2023-09-15T09:43:48.834857Z"
    },
    "papermill": {
     "duration": 0.028913,
     "end_time": "2023-09-15T09:43:48.839201",
     "exception": false,
     "start_time": "2023-09-15T09:43:48.810288",
     "status": "completed"
    },
    "tags": []
   },
   "outputs": [],
   "source": [
    "def validate(model,X_train,y_train,score,n):\n",
    "    \n",
    "    '''this function is to validate the model across multiple stratified splits'''\n",
    "    \n",
    "    splits = StratifiedKFold(n_splits=n)\n",
    "    validate = cross_val_score(model,X_train,y_train,scoring=score,cv=splits)\n",
    "    print('Cross Validation Scores: ',validate)\n",
    "    print('Scores Mean: ',validate.mean())\n",
    "    print('Scores Standard Deviation: ',validate.std())\n",
    "    model.fit(X_train,y_train)\n",
    "    return model"
   ]
  },
  {
   "cell_type": "code",
   "execution_count": null,
   "id": "801d7f3e",
   "metadata": {
    "execution": {
     "iopub.execute_input": "2023-09-15T09:43:48.873999Z",
     "iopub.status.busy": "2023-09-15T09:43:48.873577Z",
     "iopub.status.idle": "2023-09-15T09:43:48.880376Z",
     "shell.execute_reply": "2023-09-15T09:43:48.878929Z"
    },
    "papermill": {
     "duration": 0.025996,
     "end_time": "2023-09-15T09:43:48.882429",
     "exception": false,
     "start_time": "2023-09-15T09:43:48.856433",
     "status": "completed"
    },
    "tags": []
   },
   "outputs": [],
   "source": [
    "def model_tunning(model,X_train,y_train,param_grid):\n",
    "\n",
    "    grid_search = GridSearchCV(estimator=model,param_grid=param_grid,cv=5,scoring='recall')\n",
    "    grid_search.fit(X_train,y_train)\n",
    "    best_params = grid_search.best_params_\n",
    "    best_estimator = grid_search.best_estimator_\n",
    "    best_score = grid_search.best_score_\n",
    "    cv_results = pd.DataFrame(grid_search.cv_results_)\n",
    "    print(\"Best parameters are: \",best_params)\n",
    "    print('Mean cross-validated recall of the best_estimator is: ',best_score)\n",
    "    #print(cv_results)\n",
    "    return best_estimator"
   ]
  },
  {
   "cell_type": "code",
   "execution_count": null,
   "id": "5b6c3833",
   "metadata": {
    "execution": {
     "iopub.execute_input": "2023-09-15T09:43:48.916931Z",
     "iopub.status.busy": "2023-09-15T09:43:48.916294Z",
     "iopub.status.idle": "2023-09-15T09:43:48.922513Z",
     "shell.execute_reply": "2023-09-15T09:43:48.921472Z"
    },
    "papermill": {
     "duration": 0.026307,
     "end_time": "2023-09-15T09:43:48.924918",
     "exception": false,
     "start_time": "2023-09-15T09:43:48.898611",
     "status": "completed"
    },
    "tags": []
   },
   "outputs": [],
   "source": [
    "def model_evaluation(model,X_test,y_test,color='Blues',threshold=0.5):\n",
    "    \n",
    "    #classification report\n",
    "    y_proba_test = model.predict_proba(X_test)\n",
    "    y_pred_test  = (y_proba_test[:,1]>=threshold)\n",
    "    print(classification_report(y_test,y_pred_test,zero_division=0))\n",
    "    #confusion matrix\n",
    "    plt.figure(figsize=(5,4))\n",
    "    sns.heatmap(confusion_matrix(y_test,y_pred_test),cmap=color,annot=True)\n",
    "    plt.xlabel('Predicted')\n",
    "    plt.ylabel('Actual')\n",
    "    plt.title('Confusion Matrix')"
   ]
  },
  {
   "cell_type": "code",
   "execution_count": null,
   "id": "7a8441fe",
   "metadata": {
    "execution": {
     "iopub.execute_input": "2023-09-15T09:43:48.960210Z",
     "iopub.status.busy": "2023-09-15T09:43:48.959504Z",
     "iopub.status.idle": "2023-09-15T09:43:48.966562Z",
     "shell.execute_reply": "2023-09-15T09:43:48.965628Z"
    },
    "papermill": {
     "duration": 0.027069,
     "end_time": "2023-09-15T09:43:48.968621",
     "exception": false,
     "start_time": "2023-09-15T09:43:48.941552",
     "status": "completed"
    },
    "tags": []
   },
   "outputs": [],
   "source": [
    "def precision_recall_trade_off(model,X_test,y_test):\n",
    "\n",
    "    y_proba = model.predict_proba(X_test)\n",
    "    precision ,recall ,threshold = precision_recall_curve(y_test,y_proba[:,1])\n",
    "    p_r_t = pd.DataFrame({'Threshold':threshold,'Precision':precision[:-1],'Recall':recall[:-1]})\n",
    "    fig = px.line(\n",
    "        p_r_t,\n",
    "        x='Recall',\n",
    "        y='Precision',\n",
    "        title='Precision-Recall Curve',\n",
    "        width=700,height=500,\n",
    "        hover_data=['Threshold']\n",
    "    )\n",
    "    fig.show()\n",
    "    print(p_r_t[ (p_r_t['Recall']==1)].tail(10))"
   ]
  },
  {
   "cell_type": "code",
   "execution_count": null,
   "id": "85af7919",
   "metadata": {
    "execution": {
     "iopub.execute_input": "2023-09-15T09:43:49.003024Z",
     "iopub.status.busy": "2023-09-15T09:43:49.002362Z",
     "iopub.status.idle": "2023-09-15T09:43:49.009398Z",
     "shell.execute_reply": "2023-09-15T09:43:49.007316Z"
    },
    "papermill": {
     "duration": 0.028449,
     "end_time": "2023-09-15T09:43:49.012315",
     "exception": false,
     "start_time": "2023-09-15T09:43:48.983866",
     "status": "completed"
    },
    "tags": []
   },
   "outputs": [],
   "source": [
    "def roc_auc(model,X_test,y_test):\n",
    "\n",
    "    y_proba = model.predict_proba(X_test)\n",
    "    fpr ,tpr ,threshold = roc_curve(y_test,y_proba[:,1])\n",
    "    fp_tp = pd.DataFrame({'Threshold':threshold,'FPR':fpr,'TPR':tpr})\n",
    "    fig = px.line(\n",
    "        fp_tp,\n",
    "        x='FPR',\n",
    "        y='TPR',\n",
    "        title='ROC Curve',\n",
    "        width=700,height=500,\n",
    "        hover_data=['Threshold']\n",
    "    )\n",
    "    fig.show()\n",
    "    print('Testing ROC-AUC Score: ',roc_auc_score(y_test,y_proba[:,1]))"
   ]
  },
  {
   "cell_type": "code",
   "execution_count": null,
   "id": "7b6767b3",
   "metadata": {
    "execution": {
     "iopub.execute_input": "2023-09-15T09:43:49.048616Z",
     "iopub.status.busy": "2023-09-15T09:43:49.048261Z",
     "iopub.status.idle": "2023-09-15T09:43:50.004812Z",
     "shell.execute_reply": "2023-09-15T09:43:50.003734Z"
    },
    "papermill": {
     "duration": 0.976378,
     "end_time": "2023-09-15T09:43:50.007203",
     "exception": false,
     "start_time": "2023-09-15T09:43:49.030825",
     "status": "completed"
    },
    "tags": []
   },
   "outputs": [],
   "source": [
    "from sklearn.model_selection import train_test_split , GridSearchCV ,StratifiedKFold , cross_val_score\n",
    "from sklearn.pipeline import make_pipeline\n",
    "from sklearn.preprocessing import StandardScaler\n",
    "from sklearn.metrics import confusion_matrix , precision_recall_curve , roc_auc_score , roc_curve , classification_report\n",
    "\n",
    "from sklearn.linear_model import LogisticRegression\n",
    "from sklearn.svm import SVC\n",
    "from sklearn.neighbors import KNeighborsClassifier\n",
    "from sklearn.tree import DecisionTreeClassifier ,plot_tree\n",
    "from sklearn.ensemble import VotingClassifier ,RandomForestClassifier ,AdaBoostClassifier ,GradientBoostingClassifier\n",
    "from xgboost import XGBClassifier"
   ]
  },
  {
   "cell_type": "markdown",
   "id": "651b3ff8",
   "metadata": {
    "papermill": {
     "duration": 0.016433,
     "end_time": "2023-09-15T09:43:50.040165",
     "exception": false,
     "start_time": "2023-09-15T09:43:50.023732",
     "status": "completed"
    },
    "tags": []
   },
   "source": [
    "# Data Splitting and Preprocessing"
   ]
  },
  {
   "cell_type": "code",
   "execution_count": null,
   "id": "00d5c47a",
   "metadata": {
    "execution": {
     "iopub.execute_input": "2023-09-15T09:43:50.074798Z",
     "iopub.status.busy": "2023-09-15T09:43:50.073486Z",
     "iopub.status.idle": "2023-09-15T09:43:50.092501Z",
     "shell.execute_reply": "2023-09-15T09:43:50.091500Z"
    },
    "papermill": {
     "duration": 0.039328,
     "end_time": "2023-09-15T09:43:50.095095",
     "exception": false,
     "start_time": "2023-09-15T09:43:50.055767",
     "status": "completed"
    },
    "tags": []
   },
   "outputs": [],
   "source": [
    "features = df.columns.drop(['fraud'])\n",
    "target = 'fraud'\n",
    "\n",
    "X = df[features]\n",
    "y = df[target]"
   ]
  },
  {
   "cell_type": "code",
   "execution_count": null,
   "id": "370ff210",
   "metadata": {
    "execution": {
     "iopub.execute_input": "2023-09-15T09:43:50.129853Z",
     "iopub.status.busy": "2023-09-15T09:43:50.129260Z",
     "iopub.status.idle": "2023-09-15T09:43:50.606232Z",
     "shell.execute_reply": "2023-09-15T09:43:50.604263Z"
    },
    "papermill": {
     "duration": 0.498033,
     "end_time": "2023-09-15T09:43:50.609105",
     "exception": false,
     "start_time": "2023-09-15T09:43:50.111072",
     "status": "completed"
    },
    "tags": []
   },
   "outputs": [],
   "source": [
    "X_train , X_test ,y_train , y_test = train_test_split(X,y,test_size = 0.2 ,random_state = 42 ,stratify=y)"
   ]
  },
  {
   "cell_type": "code",
   "execution_count": null,
   "id": "d66dda6e",
   "metadata": {
    "execution": {
     "iopub.execute_input": "2023-09-15T09:43:50.644608Z",
     "iopub.status.busy": "2023-09-15T09:43:50.644192Z",
     "iopub.status.idle": "2023-09-15T09:43:50.712729Z",
     "shell.execute_reply": "2023-09-15T09:43:50.711361Z"
    },
    "papermill": {
     "duration": 0.089249,
     "end_time": "2023-09-15T09:43:50.715248",
     "exception": false,
     "start_time": "2023-09-15T09:43:50.625999",
     "status": "completed"
    },
    "tags": []
   },
   "outputs": [],
   "source": [
    "scaler = StandardScaler()\n",
    "X_train = scaler.fit_transform(X_train)\n",
    "X_test = scaler.transform(X_test)"
   ]
  },
  {
   "cell_type": "markdown",
   "id": "e20f92aa",
   "metadata": {
    "papermill": {
     "duration": 0.016044,
     "end_time": "2023-09-15T09:43:50.747413",
     "exception": false,
     "start_time": "2023-09-15T09:43:50.731369",
     "status": "completed"
    },
    "tags": []
   },
   "source": [
    "# 1. Decision Tree Classifier"
   ]
  },
  {
   "cell_type": "code",
   "execution_count": null,
   "id": "aa0622b2",
   "metadata": {
    "execution": {
     "iopub.execute_input": "2023-09-15T09:43:50.781104Z",
     "iopub.status.busy": "2023-09-15T09:43:50.780715Z",
     "iopub.status.idle": "2023-09-15T09:44:08.357691Z",
     "shell.execute_reply": "2023-09-15T09:44:08.356287Z"
    },
    "papermill": {
     "duration": 17.59654,
     "end_time": "2023-09-15T09:44:08.360033",
     "exception": false,
     "start_time": "2023-09-15T09:43:50.763493",
     "status": "completed"
    },
    "tags": []
   },
   "outputs": [],
   "source": [
    "dec_tree = validate(DecisionTreeClassifier(random_state=42),X_train,y_train,'recall',5)"
   ]
  },
  {
   "cell_type": "code",
   "execution_count": null,
   "id": "7cc4a8a1",
   "metadata": {
    "execution": {
     "iopub.execute_input": "2023-09-15T09:44:08.394305Z",
     "iopub.status.busy": "2023-09-15T09:44:08.393948Z",
     "iopub.status.idle": "2023-09-15T09:44:10.245194Z",
     "shell.execute_reply": "2023-09-15T09:44:10.243724Z"
    },
    "papermill": {
     "duration": 1.871819,
     "end_time": "2023-09-15T09:44:10.247405",
     "exception": false,
     "start_time": "2023-09-15T09:44:08.375586",
     "status": "completed"
    },
    "tags": []
   },
   "outputs": [],
   "source": [
    "precision_recall_trade_off(dec_tree,X_test,y_test)"
   ]
  },
  {
   "cell_type": "code",
   "execution_count": null,
   "id": "e4a676aa",
   "metadata": {
    "execution": {
     "iopub.execute_input": "2023-09-15T09:44:10.291974Z",
     "iopub.status.busy": "2023-09-15T09:44:10.291600Z",
     "iopub.status.idle": "2023-09-15T09:44:12.582864Z",
     "shell.execute_reply": "2023-09-15T09:44:12.581396Z"
    },
    "papermill": {
     "duration": 2.317067,
     "end_time": "2023-09-15T09:44:12.585915",
     "exception": false,
     "start_time": "2023-09-15T09:44:10.268848",
     "status": "completed"
    },
    "tags": []
   },
   "outputs": [],
   "source": [
    "model_evaluation(dec_tree,X_train,y_train,'Blues')"
   ]
  },
  {
   "cell_type": "code",
   "execution_count": null,
   "id": "05974f53",
   "metadata": {
    "execution": {
     "iopub.execute_input": "2023-09-15T09:44:12.631432Z",
     "iopub.status.busy": "2023-09-15T09:44:12.631060Z",
     "iopub.status.idle": "2023-09-15T09:44:13.401587Z",
     "shell.execute_reply": "2023-09-15T09:44:13.400296Z"
    },
    "papermill": {
     "duration": 0.79627,
     "end_time": "2023-09-15T09:44:13.403967",
     "exception": false,
     "start_time": "2023-09-15T09:44:12.607697",
     "status": "completed"
    },
    "tags": []
   },
   "outputs": [],
   "source": [
    "model_evaluation(dec_tree,X_test,y_test,'Blues')"
   ]
  },
  {
   "cell_type": "code",
   "execution_count": null,
   "id": "ada83872",
   "metadata": {
    "execution": {
     "iopub.execute_input": "2023-09-15T09:44:13.449906Z",
     "iopub.status.busy": "2023-09-15T09:44:13.449509Z",
     "iopub.status.idle": "2023-09-15T09:44:13.571876Z",
     "shell.execute_reply": "2023-09-15T09:44:13.571174Z"
    },
    "papermill": {
     "duration": 0.147373,
     "end_time": "2023-09-15T09:44:13.573769",
     "exception": false,
     "start_time": "2023-09-15T09:44:13.426396",
     "status": "completed"
    },
    "tags": []
   },
   "outputs": [],
   "source": [
    "roc_auc(dec_tree,X_test,y_test)"
   ]
  },
  {
   "cell_type": "code",
   "execution_count": null,
   "id": "b4ab7435",
   "metadata": {
    "execution": {
     "iopub.execute_input": "2023-09-15T09:44:13.631207Z",
     "iopub.status.busy": "2023-09-15T09:44:13.630109Z",
     "iopub.status.idle": "2023-09-15T09:44:17.460875Z",
     "shell.execute_reply": "2023-09-15T09:44:17.459113Z"
    },
    "papermill": {
     "duration": 3.866597,
     "end_time": "2023-09-15T09:44:17.467257",
     "exception": false,
     "start_time": "2023-09-15T09:44:13.600660",
     "status": "completed"
    },
    "tags": []
   },
   "outputs": [],
   "source": [
    "plt.figure(figsize=(80,25))\n",
    "plot_tree(\n",
    "          dec_tree,\n",
    "          feature_names=X.columns,\n",
    "          class_names=['No Fraud', \"Fraud\"],\n",
    "          filled=True,\n",
    "          rounded=True,\n",
    "          fontsize=16\n",
    ");"
   ]
  },
  {
   "cell_type": "code",
   "execution_count": null,
   "id": "8ba5dccc",
   "metadata": {
    "execution": {
     "iopub.execute_input": "2023-09-15T09:44:17.547907Z",
     "iopub.status.busy": "2023-09-15T09:44:17.547478Z",
     "iopub.status.idle": "2023-09-15T09:44:18.095295Z",
     "shell.execute_reply": "2023-09-15T09:44:18.093952Z"
    },
    "papermill": {
     "duration": 0.592749,
     "end_time": "2023-09-15T09:44:18.098539",
     "exception": false,
     "start_time": "2023-09-15T09:44:17.505790",
     "status": "completed"
    },
    "tags": []
   },
   "outputs": [],
   "source": [
    "feat_imp_dt = pd.Series(dec_tree.feature_importances_,index=X.columns).sort_values(ascending=False)\n",
    "sns.barplot(x=feat_imp_dt,y=feat_imp_dt.index)\n",
    "plt.title('Feature Importances');"
   ]
  },
  {
   "cell_type": "markdown",
   "id": "5b76411d",
   "metadata": {
    "papermill": {
     "duration": 0.039718,
     "end_time": "2023-09-15T09:44:18.178575",
     "exception": false,
     "start_time": "2023-09-15T09:44:18.138857",
     "status": "completed"
    },
    "tags": []
   },
   "source": [
    "# 2. XGBoost Classifier"
   ]
  },
  {
   "cell_type": "code",
   "execution_count": null,
   "id": "53ced6aa",
   "metadata": {
    "execution": {
     "iopub.execute_input": "2023-09-15T09:44:18.259676Z",
     "iopub.status.busy": "2023-09-15T09:44:18.259049Z",
     "iopub.status.idle": "2023-09-15T09:50:08.836673Z",
     "shell.execute_reply": "2023-09-15T09:50:08.835582Z"
    },
    "papermill": {
     "duration": 350.621996,
     "end_time": "2023-09-15T09:50:08.839594",
     "exception": false,
     "start_time": "2023-09-15T09:44:18.217598",
     "status": "completed"
    },
    "tags": []
   },
   "outputs": [],
   "source": [
    "xgb = validate(XGBClassifier(n_estimators=500 ,random_state=42 ,n_jobs=-1),X_train,y_train,'recall',5)"
   ]
  },
  {
   "cell_type": "code",
   "execution_count": null,
   "id": "9992d32c",
   "metadata": {
    "execution": {
     "iopub.execute_input": "2023-09-15T09:50:08.924052Z",
     "iopub.status.busy": "2023-09-15T09:50:08.923116Z",
     "iopub.status.idle": "2023-09-15T09:50:09.354620Z",
     "shell.execute_reply": "2023-09-15T09:50:09.353447Z"
    },
    "papermill": {
     "duration": 0.496499,
     "end_time": "2023-09-15T09:50:09.378015",
     "exception": false,
     "start_time": "2023-09-15T09:50:08.881516",
     "status": "completed"
    },
    "tags": []
   },
   "outputs": [],
   "source": [
    "precision_recall_trade_off(xgb,X_test,y_test)"
   ]
  },
  {
   "cell_type": "code",
   "execution_count": null,
   "id": "f6de068a",
   "metadata": {
    "execution": {
     "iopub.execute_input": "2023-09-15T09:50:09.692237Z",
     "iopub.status.busy": "2023-09-15T09:50:09.690820Z",
     "iopub.status.idle": "2023-09-15T09:50:12.631637Z",
     "shell.execute_reply": "2023-09-15T09:50:12.630374Z"
    },
    "papermill": {
     "duration": 3.064607,
     "end_time": "2023-09-15T09:50:12.633883",
     "exception": false,
     "start_time": "2023-09-15T09:50:09.569276",
     "status": "completed"
    },
    "tags": []
   },
   "outputs": [],
   "source": [
    "model_evaluation(xgb,X_train,y_train,'Greens',threshold=0.001976)"
   ]
  },
  {
   "cell_type": "code",
   "execution_count": null,
   "id": "73bbf3a7",
   "metadata": {
    "execution": {
     "iopub.execute_input": "2023-09-15T09:50:12.877148Z",
     "iopub.status.busy": "2023-09-15T09:50:12.876467Z",
     "iopub.status.idle": "2023-09-15T09:50:13.804079Z",
     "shell.execute_reply": "2023-09-15T09:50:13.803173Z"
    },
    "papermill": {
     "duration": 1.052624,
     "end_time": "2023-09-15T09:50:13.806093",
     "exception": false,
     "start_time": "2023-09-15T09:50:12.753469",
     "status": "completed"
    },
    "tags": []
   },
   "outputs": [],
   "source": [
    "model_evaluation(xgb,X_test,y_test,'Greens',threshold=0.001976)"
   ]
  },
  {
   "cell_type": "code",
   "execution_count": null,
   "id": "c9ec68a7",
   "metadata": {
    "execution": {
     "iopub.execute_input": "2023-09-15T09:50:14.055900Z",
     "iopub.status.busy": "2023-09-15T09:50:14.055396Z",
     "iopub.status.idle": "2023-09-15T09:50:14.390033Z",
     "shell.execute_reply": "2023-09-15T09:50:14.389026Z"
    },
    "papermill": {
     "duration": 0.466975,
     "end_time": "2023-09-15T09:50:14.391949",
     "exception": false,
     "start_time": "2023-09-15T09:50:13.924974",
     "status": "completed"
    },
    "tags": []
   },
   "outputs": [],
   "source": [
    "roc_auc(xgb,X_test,y_test)"
   ]
  },
  {
   "cell_type": "markdown",
   "id": "fe353312",
   "metadata": {
    "papermill": {
     "duration": 0.2551,
     "end_time": "2023-09-15T09:50:14.832602",
     "exception": false,
     "start_time": "2023-09-15T09:50:14.577502",
     "status": "completed"
    },
    "tags": []
   },
   "source": [
    "# 3. Random Forest Classifier"
   ]
  },
  {
   "cell_type": "code",
   "execution_count": null,
   "id": "36bf0a55",
   "metadata": {
    "execution": {
     "iopub.execute_input": "2023-09-15T09:50:15.212254Z",
     "iopub.status.busy": "2023-09-15T09:50:15.211600Z",
     "iopub.status.idle": "2023-09-15T10:09:33.409706Z",
     "shell.execute_reply": "2023-09-15T10:09:33.408543Z"
    },
    "papermill": {
     "duration": 1158.39486,
     "end_time": "2023-09-15T10:09:33.411968",
     "exception": false,
     "start_time": "2023-09-15T09:50:15.017108",
     "status": "completed"
    },
    "tags": []
   },
   "outputs": [],
   "source": [
    "rfc = validate(RandomForestClassifier(n_estimators=500 ,n_jobs=-1 ,random_state=42),X_train,y_train,'recall',5)"
   ]
  },
  {
   "cell_type": "code",
   "execution_count": null,
   "id": "f76ca7a1",
   "metadata": {
    "execution": {
     "iopub.execute_input": "2023-09-15T10:09:33.779229Z",
     "iopub.status.busy": "2023-09-15T10:09:33.778499Z",
     "iopub.status.idle": "2023-09-15T10:09:35.858501Z",
     "shell.execute_reply": "2023-09-15T10:09:35.857162Z"
    },
    "papermill": {
     "duration": 2.270102,
     "end_time": "2023-09-15T10:09:35.862511",
     "exception": false,
     "start_time": "2023-09-15T10:09:33.592409",
     "status": "completed"
    },
    "tags": []
   },
   "outputs": [],
   "source": [
    "precision_recall_trade_off(rfc,X_test,y_test)"
   ]
  },
  {
   "cell_type": "code",
   "execution_count": null,
   "id": "a800b83f",
   "metadata": {
    "execution": {
     "iopub.execute_input": "2023-09-15T10:09:36.329447Z",
     "iopub.status.busy": "2023-09-15T10:09:36.329139Z",
     "iopub.status.idle": "2023-09-15T10:09:46.149741Z",
     "shell.execute_reply": "2023-09-15T10:09:46.148217Z"
    },
    "papermill": {
     "duration": 10.020066,
     "end_time": "2023-09-15T10:09:46.152427",
     "exception": false,
     "start_time": "2023-09-15T10:09:36.132361",
     "status": "completed"
    },
    "tags": []
   },
   "outputs": [],
   "source": [
    "model_evaluation(rfc,X_train,y_train,'Blues',threshold=0.212)"
   ]
  },
  {
   "cell_type": "code",
   "execution_count": null,
   "id": "881a2674",
   "metadata": {
    "execution": {
     "iopub.execute_input": "2023-09-15T10:09:46.526945Z",
     "iopub.status.busy": "2023-09-15T10:09:46.526382Z",
     "iopub.status.idle": "2023-09-15T10:09:49.314523Z",
     "shell.execute_reply": "2023-09-15T10:09:49.313540Z"
    },
    "papermill": {
     "duration": 2.978978,
     "end_time": "2023-09-15T10:09:49.316788",
     "exception": false,
     "start_time": "2023-09-15T10:09:46.337810",
     "status": "completed"
    },
    "tags": []
   },
   "outputs": [],
   "source": [
    "model_evaluation(rfc,X_test,y_test,'Blues',threshold=0.212)"
   ]
  },
  {
   "cell_type": "code",
   "execution_count": null,
   "id": "812e1bbf",
   "metadata": {
    "execution": {
     "iopub.execute_input": "2023-09-15T10:09:49.708433Z",
     "iopub.status.busy": "2023-09-15T10:09:49.707648Z",
     "iopub.status.idle": "2023-09-15T10:09:51.844491Z",
     "shell.execute_reply": "2023-09-15T10:09:51.843690Z"
    },
    "papermill": {
     "duration": 2.336412,
     "end_time": "2023-09-15T10:09:51.846234",
     "exception": false,
     "start_time": "2023-09-15T10:09:49.509822",
     "status": "completed"
    },
    "tags": []
   },
   "outputs": [],
   "source": [
    "roc_auc(rfc,X_test,y_test)"
   ]
  },
  {
   "cell_type": "code",
   "execution_count": null,
   "id": "f6957ff7",
   "metadata": {
    "execution": {
     "iopub.execute_input": "2023-09-15T10:09:52.320767Z",
     "iopub.status.busy": "2023-09-15T10:09:52.320044Z",
     "iopub.status.idle": "2023-09-15T10:09:52.737370Z",
     "shell.execute_reply": "2023-09-15T10:09:52.736031Z"
    },
    "papermill": {
     "duration": 0.617407,
     "end_time": "2023-09-15T10:09:52.740323",
     "exception": false,
     "start_time": "2023-09-15T10:09:52.122916",
     "status": "completed"
    },
    "tags": []
   },
   "outputs": [],
   "source": [
    "feat_imp_rf = pd.Series(rfc.feature_importances_,index=X.columns).sort_values(ascending=False)\n",
    "sns.barplot(x=feat_imp_rf,y=feat_imp_rf.index)\n",
    "plt.title('Feature Importances');"
   ]
  }
 ],
 "metadata": {
  "kernelspec": {
   "display_name": "Python 3 (ipykernel)",
   "language": "python",
   "name": "python3"
  },
  "language_info": {
   "codemirror_mode": {
    "name": "ipython",
    "version": 3
   },
   "file_extension": ".py",
   "mimetype": "text/x-python",
   "name": "python",
   "nbconvert_exporter": "python",
   "pygments_lexer": "ipython3",
   "version": "3.10.9"
  },
  "papermill": {
   "default_parameters": {},
   "duration": 1681.794826,
   "end_time": "2023-09-15T10:09:56.459890",
   "environment_variables": {},
   "exception": null,
   "input_path": "__notebook__.ipynb",
   "output_path": "__notebook__.ipynb",
   "parameters": {},
   "start_time": "2023-09-15T09:41:54.665064",
   "version": "2.4.0"
  }
 },
 "nbformat": 4,
 "nbformat_minor": 5
}
